{
 "cells": [
  {
   "cell_type": "markdown",
   "metadata": {},
   "source": [
    "# SwabSeq Primer Design\n",
    "\n",
    "Here we will design 1536 unique i5 and i7 indicies. This will enable the end user to detect any \"index hopping\" between wells. They will satify the following criteria:\n",
    "\n",
    "- Minimum Levenshtein Distance of 3 between any two indicies\n",
    "- No homopolymer repeats > 2 nt\n",
    "- Minimized homo- and hetero-dimerization potential\n",
    "\n",
    "First, let's generate the pool of all potential 10 nt indicies satisfying our Levenshtein Distance constraints. From [Ashlock et. al 2012](https://doi.org/10.1016/j.biosystems.2012.06.005), we know there are exactly 11,743 of them. This will take ~30 mins, so we've provided the pre-calculated set."
   ]
  },
  {
   "cell_type": "code",
   "execution_count": 1,
   "metadata": {},
   "outputs": [],
   "source": [
    "import random\n",
    "import itertools\n",
    "import multiprocessing\n",
    "import numpy as np\n",
    "import pandas as pd\n",
    "import seaborn as sns\n",
    "import matplotlib.pyplot as plt\n",
    "from collections import Counter\n",
    "from collections import defaultdict\n",
    "\n",
    "# external depends\n",
    "import Levenshtein\n",
    "import primer3\n",
    "\n",
    "\n",
    "def conways_lexicode(all_idx, d=3):\n",
    "    \"\"\"\n",
    "    Peforms John Conway's (RIP) Lexicode Algorithm (Ashlock 2012). Given an ordered set of\n",
    "    indicies (all_idx) and an empty set (pool), select an index from all_idx and place it\n",
    "    in pool if it is at an edit distance of d or more from every index in pool.\n",
    "    Obviously, this is an inefficient way of calculating things, but the\n",
    "    complexity of edit metric spaces means this is almost as good as it gets...\n",
    "\n",
    "    Reference:\n",
    "        https://doi.org/10.1016/j.biosystems.2012.06.005\n",
    "    Input:\n",
    "        all_idx - an iterator that contains a all indicies\n",
    "        d - the minimum distance a idx must be to be included in pool\n",
    "    Output:\n",
    "        pool - a list of all the barcodes satisfying the constraint\n",
    "    \"\"\"\n",
    "    pool = []\n",
    "    pool.append(next(all_idx))\n",
    "    for test_idx in all_idx:\n",
    "        for pool_idx in pool:\n",
    "            if Levenshtein.distance(test_idx, pool_idx) < d:\n",
    "                break\n",
    "        else:\n",
    "            pool.append(test_idx)\n",
    "    return pool\n",
    "\n",
    "# Generate the indicies\n",
    "# ten_mers = (''.join(x) for x in itertools.product('ACGT', repeat=10))\n",
    "# ten_mers_d3 = conways_lexicode(ten_mers, d=3)\n",
    "\n",
    "# Instead, load the indicies\n",
    "ten_mers_d3 = []\n",
    "with open('./ten-mer_d3.txt', 'r') as f:\n",
    "    for line in f:\n",
    "        ten_mers_d3.append(line.rstrip())"
   ]
  },
  {
   "cell_type": "markdown",
   "metadata": {},
   "source": [
    "While these indicies are far apart, we need to remove the repetative and highly GC rich species "
   ]
  },
  {
   "cell_type": "code",
   "execution_count": 2,
   "metadata": {},
   "outputs": [
    {
     "name": "stdout",
     "output_type": "stream",
     "text": [
      "Primers remaining after filter - 5299\n",
      "Possible unique pairs after filter - 2649\n"
     ]
    }
   ],
   "source": [
    "ten_mers_filter = []\n",
    "for idx in ten_mers_d3:\n",
    "    gc = (idx.count('G') + idx.count('C')) / len(idx)\n",
    "    if gc > 0.65 or gc < 0.35:\n",
    "        continue\n",
    "    elif any(len(list(x)) > 2 for _,x in itertools.groupby(idx)):\n",
    "        continue\n",
    "#     elif idx[:2] == 'GG':\n",
    "#         continue\n",
    "    else:\n",
    "        ten_mers_filter.append(idx)\n",
    "        \n",
    "print(f'Primers remaining after filter - {len(ten_mers_filter)}')\n",
    "print(f'Possible unique pairs after filter - {len(ten_mers_filter)//2}')"
   ]
  },
  {
   "cell_type": "markdown",
   "metadata": {},
   "source": [
    "## Primer Sets\n",
    "\n",
    "SwabSeq has 3 different primer sets - two for SARS-CoV2 (N1 and S2) and one for the housekeeping gene RPP30. "
   ]
  },
  {
   "cell_type": "code",
   "execution_count": 3,
   "metadata": {},
   "outputs": [],
   "source": [
    "# illumina amplicons must start and end with these sequences\n",
    "p5 = 'AATGATACGGCGACCACCGAGATCTACAC'\n",
    "p7 = 'CAAGCAGAAGACGGCATACGAGAT'\n",
    "\n",
    "s2_f = 'GCTGGTGCTGCAGCTTATTA'\n",
    "s2_r = 'AGGGTCAAGTGCACAGTCTA'\n",
    "\n",
    "n1_r = 'TCTGGTTACTGCCAGTTGAATCTG'\n",
    "n1_f = 'GACCCCAAAATCAGCGAAAT'\n",
    "\n",
    "rpp30_r = 'GAGCGGCTGTCTCCACAAGT'\n",
    "rpp30_f = 'AGATTTGGACCTGCGAGCG'\n",
    "\n",
    "# data structure -> {orientation:{idx:{xx:seq, rpp30:seq}, ...}}\n",
    "n1_dict = defaultdict(lambda: defaultdict(dict))\n",
    "s2_dict = defaultdict(lambda: defaultdict(dict))\n",
    "for idx in ten_mers_filter:  \n",
    "    # note eric & aaron paired *_r + p5; *_f + p7 for n1 and rpp30\n",
    "    n1_dict['F'][idx] = {'N1':f'{p7}{idx}{n1_f}', 'RPP30':f'{p7}{idx}{rpp30_f}'}\n",
    "    n1_dict['R'][idx] = {'N1':f'{p5}{idx}{n1_r}', 'RPP30':f'{p5}{idx}{rpp30_r}'}\n",
    "    \n",
    "    # note eric & aaron paired *_f + p5; *_r + p7 for s2\n",
    "    s2_dict['F'][idx] = {'S2':f'{p5}{idx}{s2_f}', 'RPP30':f'{p7}{idx}{rpp30_f}'}\n",
    "    s2_dict['R'][idx] = {'S2':f'{p7}{idx}{s2_r}', 'RPP30':f'{p5}{idx}{rpp30_r}'}"
   ]
  },
  {
   "cell_type": "markdown",
   "metadata": {},
   "source": [
    "Since the calculations take some time, we can mash all of these primer sets together and use `multiprocessing` to parallelize the tasks. We'll also drop the data into a `Pandas` `DataFrame` to make visualization/etc easier."
   ]
  },
  {
   "cell_type": "code",
   "execution_count": 4,
   "metadata": {},
   "outputs": [],
   "source": [
    "def calc_self_props(idx_dict):\n",
    "    \"\"\"\n",
    "    Use Primer3 to calculate hairpin and self-dimer properties. Note we have to \n",
    "    trim sequences to 60 nt (removing the 5' end) to work with Primer3. While \n",
    "    not ideal, this is probably safe as primer dimers come from the 3' end and\n",
    "    this is part of the common region of the primer.\n",
    "    \n",
    "    Input:\n",
    "        idx_dict - must have primer:str key:val pair\n",
    "    Output:\n",
    "        out_dict - Adds haripin and self-dimer Tm and dG\n",
    "    Requires:\n",
    "        primer3-py - pip install primer3-py\n",
    "    \"\"\"\n",
    "    # be good - avoid side-effects\n",
    "    out_dict = {key:val for key,val in idx_dict.items()}\n",
    "    hairpin = primer3.calcHairpin(out_dict['primer'][-60:]).todict()\n",
    "    self = primer3.calcHomodimer(out_dict['primer'][-60:]).todict()\n",
    "    out_dict['hairpin_dg'] = hairpin['dg']\n",
    "    out_dict['hairpin_tm'] = hairpin['tm']\n",
    "    out_dict['self_dg'] = self['dg']\n",
    "    out_dict['self_tm'] = self['tm']\n",
    "    return(out_dict)\n",
    "\n",
    "# flatten the two dicts for easy proc and export to pandas\n",
    "# {orientation:{idx:{n1:seq, rpp30:seq}, ...}} -> {orientation:xx, idx:xx, n1:xx, rpp30:xx}\n",
    "flat_n1 = []\n",
    "for orientation, idx_dict in n1_dict.items():\n",
    "    for idx, well_dict in idx_dict.items():\n",
    "        for primer_set, seq in well_dict.items():\n",
    "            flat_n1.append({'orientation':orientation, 'idx':idx, 'set':primer_set, 'primer':seq})\n",
    "# drop \n",
    "flat_s2 = []\n",
    "for orientation, idx_dict in s2_dict.items():\n",
    "    for idx, well_dict in idx_dict.items():\n",
    "        for primer_set, seq in well_dict.items():\n",
    "            if primer_set != 'RPP30':\n",
    "                flat_s2.append({'orientation':orientation, 'idx':idx, 'set':primer_set, 'primer':seq})\n",
    "                \n",
    "with multiprocessing.Pool() as pool:\n",
    "    self_props = pd.DataFrame(pool.map(calc_self_props, itertools.chain(flat_n1, flat_s2)))"
   ]
  },
  {
   "cell_type": "markdown",
   "metadata": {},
   "source": [
    "Let's visualize the properties to get a sense for what's going on with our potential primers. First the hairpin dG's"
   ]
  },
  {
   "cell_type": "code",
   "execution_count": 5,
   "metadata": {},
   "outputs": [
    {
     "data": {
      "text/plain": [
       "<seaborn.axisgrid.FacetGrid at 0x7f4de50978e0>"
      ]
     },
     "execution_count": 5,
     "metadata": {},
     "output_type": "execute_result"
    },
    {
     "data": {
      "image/png": "[encoded data removed]",
      "text/plain": [
       "<Figure size 648x432 with 6 Axes>"
      ]
     },
     "metadata": {
      "needs_background": "light"
     },
     "output_type": "display_data"
    }
   ],
   "source": [
    "g = sns.FacetGrid(self_props, row='orientation', col='set', margin_titles=True)\n",
    "g.map(sns.distplot, \"hairpin_dg\", kde=False)"
   ]
  },
  {
   "cell_type": "markdown",
   "metadata": {},
   "source": [
    "We can appreciate that the hairpin dG's are binned to a single value. Next, the self-dimer dG's"
   ]
  },
  {
   "cell_type": "code",
   "execution_count": 6,
   "metadata": {},
   "outputs": [
    {
     "data": {
      "text/plain": [
       "<seaborn.axisgrid.FacetGrid at 0x7f4e85aed2b0>"
      ]
     },
     "execution_count": 6,
     "metadata": {},
     "output_type": "execute_result"
    },
    {
     "data": {
      "image/png": "[encoded data removed]",
      "text/plain": [
       "<Figure size 648x432 with 6 Axes>"
      ]
     },
     "metadata": {
      "needs_background": "light"
     },
     "output_type": "display_data"
    }
   ],
   "source": [
    "g = sns.FacetGrid(self_props, row='orientation', col='set', margin_titles=True)\n",
    "g.map(sns.distplot, \"self_dg\", kde=False)"
   ]
  },
  {
   "cell_type": "markdown",
   "metadata": {},
   "source": [
    "Here we have more of a spread in dG's. With the S2 primers being more likely to self-dimerize."
   ]
  },
  {
   "cell_type": "markdown",
   "metadata": {},
   "source": [
    "## Finding Optimal Pairs\n",
    "\n",
    "Let's drop the bottom 5% from all of these distributions, and take the intersection within each orientation. The goal here being to find a common set of indicies that work well for either the forward or reverse orientations. We can then compare across orientations (excluding identical indicies) to find 1536 forward and 1536 reverse primers that have minimized self- and cross-reactivity."
   ]
  },
  {
   "cell_type": "code",
   "execution_count": 7,
   "metadata": {},
   "outputs": [
    {
     "data": {
      "text/html": [
       "<div>\n",
       "<style scoped>\n",
       "    .dataframe tbody tr th:only-of-type {\n",
       "        vertical-align: middle;\n",
       "    }\n",
       "\n",
       "    .dataframe tbody tr th {\n",
       "        vertical-align: top;\n",
       "    }\n",
       "\n",
       "    .dataframe thead th {\n",
       "        text-align: right;\n",
       "    }\n",
       "</style>\n",
       "<table border=\"1\" class=\"dataframe\">\n",
       "  <thead>\n",
       "    <tr style=\"text-align: right;\">\n",
       "      <th></th>\n",
       "      <th></th>\n",
       "      <th>self_dg_cutoff</th>\n",
       "      <th>hairpin_dg_cutoff</th>\n",
       "    </tr>\n",
       "    <tr>\n",
       "      <th>set</th>\n",
       "      <th>orientation</th>\n",
       "      <th></th>\n",
       "      <th></th>\n",
       "    </tr>\n",
       "  </thead>\n",
       "  <tbody>\n",
       "    <tr>\n",
       "      <th rowspan=\"2\" valign=\"top\">N1</th>\n",
       "      <th>F</th>\n",
       "      <td>-8385.374868</td>\n",
       "      <td>-2481.267189</td>\n",
       "    </tr>\n",
       "    <tr>\n",
       "      <th>R</th>\n",
       "      <td>-7763.079172</td>\n",
       "      <td>-3108.280335</td>\n",
       "    </tr>\n",
       "    <tr>\n",
       "      <th rowspan=\"2\" valign=\"top\">RPP30</th>\n",
       "      <th>F</th>\n",
       "      <td>-8069.037827</td>\n",
       "      <td>-2856.675085</td>\n",
       "    </tr>\n",
       "    <tr>\n",
       "      <th>R</th>\n",
       "      <td>-10112.849083</td>\n",
       "      <td>-4121.201989</td>\n",
       "    </tr>\n",
       "    <tr>\n",
       "      <th rowspan=\"2\" valign=\"top\">S2</th>\n",
       "      <th>F</th>\n",
       "      <td>-10779.838179</td>\n",
       "      <td>-4630.436482</td>\n",
       "    </tr>\n",
       "    <tr>\n",
       "      <th>R</th>\n",
       "      <td>-7567.754177</td>\n",
       "      <td>-2502.688987</td>\n",
       "    </tr>\n",
       "  </tbody>\n",
       "</table>\n",
       "</div>"
      ],
      "text/plain": [
       "                   self_dg_cutoff  hairpin_dg_cutoff\n",
       "set   orientation                                   \n",
       "N1    F              -8385.374868       -2481.267189\n",
       "      R              -7763.079172       -3108.280335\n",
       "RPP30 F              -8069.037827       -2856.675085\n",
       "      R             -10112.849083       -4121.201989\n",
       "S2    F             -10779.838179       -4630.436482\n",
       "      R              -7567.754177       -2502.688987"
      ]
     },
     "execution_count": 7,
     "metadata": {},
     "output_type": "execute_result"
    }
   ],
   "source": [
    "cutoffs = self_props.groupby(['set', 'orientation']).agg(\n",
    "    self_dg_cutoff=('self_dg', lambda x: np.quantile(x, 0.05)),\n",
    "    hairpin_dg_cutoff=('hairpin_dg', lambda x: np.quantile(x, 0.05))\n",
    ")\n",
    "cutoffs"
   ]
  },
  {
   "cell_type": "markdown",
   "metadata": {},
   "source": [
    "Let's find indicies that pass our cutoffs in all 3 different primer sets"
   ]
  },
  {
   "cell_type": "code",
   "execution_count": 8,
   "metadata": {},
   "outputs": [
    {
     "data": {
      "text/plain": [
       "orientation\n",
       "F    4343\n",
       "R    4222\n",
       "dtype: int64"
      ]
     },
     "execution_count": 8,
     "metadata": {},
     "output_type": "execute_result"
    }
   ],
   "source": [
    "good_idx = (pd.merge(self_props, cutoffs, on=['set','orientation'])\n",
    " .query('hairpin_dg > hairpin_dg_cutoff & self_dg > self_dg_cutoff')\n",
    " .groupby(['orientation', 'idx']) \n",
    " .size()\n",
    " .reset_index(name='counts')\n",
    " .query('counts == 3')\n",
    ")\n",
    "\n",
    "good_idx.groupby('orientation').size()"
   ]
  },
  {
   "cell_type": "markdown",
   "metadata": {},
   "source": [
    "Next, we'll take the intersection of these two sets of barcodes to get pairs that are good in either the forward or reverse configuration. Since the well heterodimer calculation takes a while, we'll randomly sample 200,000 pairs from all of possible combinations. Given the previous filtering steps and Levenshtein distance constraint, we are pretty confident these will be good primers. One can easily scale this up to ~1,000,000 draws, but some initial profiling suggests that the dG values all get binned on to a single point (which is reasonable given that only 10 nt of the entire ~60nt primer is changing)."
   ]
  },
  {
   "cell_type": "code",
   "execution_count": 9,
   "metadata": {},
   "outputs": [
    {
     "name": "stdout",
     "output_type": "stream",
     "text": [
      "Barcodes remaining - 3680\n",
      "Possible unique pairs remaining - 1840\n",
      "Random Test! The two lists should be the same...\n",
      "[4150271, 6363827, 4621455, 158049]\n",
      "[4150271, 6363827, 4621455, 158049]\n",
      "CPU times: user 10.2 s, sys: 336 ms, total: 10.5 s\n",
      "Wall time: 10.5 s\n"
     ]
    }
   ],
   "source": [
    "%%time\n",
    "f_set = set(good_idx.query('orientation == \"F\"')['idx'])\n",
    "r_set = set(good_idx.query('orientation == \"R\"')['idx'])\n",
    "good_set = f_set.intersection(r_set)\n",
    "print(f'Barcodes remaining - {len(good_set)}')\n",
    "print(f'Possible unique pairs remaining - {len(good_set)//2}')\n",
    "\n",
    "# ensure we get the same sampling each time\n",
    "# for whatever reason random.shuffle would not obey the seed\n",
    "combos = list(itertools.combinations(good_set, 2))\n",
    "rand_idx = random.Random(42).sample(range(len(combos)), len(combos))\n",
    "combos_shuf = [combos[x] for x in rand_idx]\n",
    "\n",
    "print('Random Test! The two lists should be the same...')\n",
    "print(f'[4150271, 6363827, 4621455, 158049]\\n{rand_idx[-4:]}')\n",
    "\n",
    "sample_depth = 200000\n",
    "pairs = combos_shuf[:sample_depth]"
   ]
  },
  {
   "cell_type": "markdown",
   "metadata": {},
   "source": [
    "Now run the well cross-hybridization calculation. Note we can keep the N1 and S2 set's separate since they won't ever been in the same well together. Should take ~5 mins on 64 cores."
   ]
  },
  {
   "cell_type": "code",
   "execution_count": 10,
   "metadata": {},
   "outputs": [
    {
     "name": "stdout",
     "output_type": "stream",
     "text": [
      "CPU times: user 11 s, sys: 1.6 s, total: 12.6 s\n",
      "Wall time: 6min 46s\n"
     ]
    }
   ],
   "source": [
    "%%time\n",
    "def calc_well_heterodimers(well_combo):\n",
    "    \"\"\"\n",
    "    Generate all combinations of possible primer pairs within one well.\n",
    "    Calculate the dG and report the min value. Note we're doing permutations\n",
    "    instead of combinations here since we have to trim one of the primers to\n",
    "    60 nt. This is probably safe as our primers are 63 nt, but we want to be \n",
    "    sure that this doesn't affect the dG calculations too much.\n",
    "    \n",
    "    Input:\n",
    "        well_combo: [(index, {name:seq}), (index, {name:seq})]\n",
    "    Output:\n",
    "        min_dG: float\n",
    "    Depends:\n",
    "        primer3 - pip install primer3-py\n",
    "    \"\"\"\n",
    "    idx, dict_store = list(zip(*well_combo))\n",
    "    primers = itertools.chain.from_iterable(x.values() for x in dict_store)\n",
    "    # pairs = itertools.permutations(primers, 2)\n",
    "    pairs = itertools.combinations(primers, 2)\n",
    "    dG = min(primer3.calcHeterodimer(x[-60:], y).dg for x,y in pairs)\n",
    "    return((*idx, dG))\n",
    "\n",
    "n1_wells = [((f, n1_dict['F'][f]), (r, n1_dict['R'][r])) for f,r in pairs]\n",
    "s2_wells = [((f, s2_dict['F'][f]), (r, s2_dict['R'][r])) for f,r in pairs]\n",
    "\n",
    "# could combine together but w/e - fast enough...\n",
    "with multiprocessing.Pool() as pool:\n",
    "    n1_well_dG = pool.map(calc_well_heterodimers, n1_wells)\n",
    "    s2_well_dG = pool.map(calc_well_heterodimers, s2_wells)"
   ]
  },
  {
   "cell_type": "code",
   "execution_count": 11,
   "metadata": {},
   "outputs": [
    {
     "data": {
      "text/plain": [
       "<matplotlib.axes._subplots.AxesSubplot at 0x7f4ea7b2a340>"
      ]
     },
     "execution_count": 11,
     "metadata": {},
     "output_type": "execute_result"
    },
    {
     "data": {
      "image/png": "[encoded data removed]",
      "text/plain": [
       "<Figure size 432x288 with 1 Axes>"
      ]
     },
     "metadata": {
      "needs_background": "light"
     },
     "output_type": "display_data"
    }
   ],
   "source": [
    "sns.distplot([x[2] for x in n1_well_dG])\n",
    "sns.distplot([x[2] for x in s2_well_dG])"
   ]
  },
  {
   "cell_type": "markdown",
   "metadata": {},
   "source": [
    "There seems to be two different populations. Given the depth of sampling, this is not likely driven by specific indicies, rather from the primers themselves. To be conservative, we'll take the minimum dG between N1 and S2 for each possible pair."
   ]
  },
  {
   "cell_type": "code",
   "execution_count": 12,
   "metadata": {},
   "outputs": [],
   "source": [
    "min_well_dG = []\n",
    "for i, calc in enumerate(n1_well_dG):\n",
    "    n1_dg = calc[2]\n",
    "    # since n1_well_dG and s2_well_dG are same lengths, we can use i to access\n",
    "    f, r, s2_dg = s2_well_dG[i]\n",
    "    min_well_dG.append((f,r,min(n1_dg, s2_dg)))\n",
    "\n",
    "min_well_dG.sort(key=lambda x: x[2], reverse=True)"
   ]
  },
  {
   "cell_type": "markdown",
   "metadata": {},
   "source": [
    "Now build up a list of unique indicies. We can iterate right through this list since it's already sorted by dG."
   ]
  },
  {
   "cell_type": "code",
   "execution_count": 13,
   "metadata": {},
   "outputs": [
    {
     "name": "stdout",
     "output_type": "stream",
     "text": [
      "Total unique index pairs found - 1829\n"
     ]
    }
   ],
   "source": [
    "final_pairs = []\n",
    "used_idx = set()\n",
    "for f, r, dG in min_well_dG:\n",
    "    if f in used_idx or r in used_idx:\n",
    "        continue\n",
    "    else:\n",
    "        final_pairs.append((f, r, dG))\n",
    "        used_idx.update((f,r))\n",
    "        \n",
    "print(f'Total unique index pairs found - {len(final_pairs)}')"
   ]
  },
  {
   "cell_type": "markdown",
   "metadata": {},
   "source": [
    "Let's see what our final dG distribution looks like"
   ]
  },
  {
   "cell_type": "code",
   "execution_count": 14,
   "metadata": {},
   "outputs": [
    {
     "data": {
      "text/plain": [
       "<matplotlib.axes._subplots.AxesSubplot at 0x7f4e6a5b82e0>"
      ]
     },
     "execution_count": 14,
     "metadata": {},
     "output_type": "execute_result"
    },
    {
     "data": {
      "image/png": "[encoded data removed]",
      "text/plain": [
       "<Figure size 432x288 with 1 Axes>"
      ]
     },
     "metadata": {
      "needs_background": "light"
     },
     "output_type": "display_data"
    }
   ],
   "source": [
    "sns.distplot([x[2] for x in final_pairs])"
   ]
  },
  {
   "cell_type": "markdown",
   "metadata": {},
   "source": [
    "Looks good! Now grab as many primer sets as you need and output to a nice tsv"
   ]
  }
 ],
 "metadata": {
  "kernelspec": {
   "display_name": "Python 3",
   "language": "python",
   "name": "python3"
  },
  "language_info": {
   "codemirror_mode": {
    "name": "ipython",
    "version": 3
   },
   "file_extension": ".py",
   "mimetype": "text/x-python",
   "name": "python",
   "nbconvert_exporter": "python",
   "pygments_lexer": "ipython3",
   "version": "3.8.2"
  }
 },
 "nbformat": 4,
 "nbformat_minor": 4
}
